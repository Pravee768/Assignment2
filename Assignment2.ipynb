{
 "cells": [
  {
   "cell_type": "markdown",
   "id": "470aa928",
   "metadata": {},
   "source": [
    "Question(1): Write a Python program to print \"Hello Python\"?\n",
    "Solution: \n",
    "(1)a=\"Hello Python\"\n",
    "print(a)\n",
    "\n",
    "(2)print(\"Hello Python\")\n",
    "\n",
    "Question(2): Write a Python program to do arithmetical operations addition and division.?\n",
    "Addition:\n",
    "a=3\n",
    "b=6\n",
    "c=a+b\n",
    "print(c)\n",
    "\n",
    "division:\n",
    "a=6\n",
    "b=6\n",
    "c=a/b\n",
    "print(c)\n",
    "\n",
    "Question(3): Write a Python program to find the area of a triangle?\n",
    "# Three sides of the triangle is a, b and c:\n",
    "a = float(input('Enter first side: '))\n",
    "b = float(input('Enter second side: '))\n",
    "c = float(input('Enter third side: '))\n",
    "# calculate the semi-perimeter.\n",
    "s = (a + b + c) / 2.\n",
    "# calculate the area.\n",
    "area = (s*(s-a)*(s-b)*(s-c)) ** 0.5\n",
    "print(area)\n",
    "\n",
    "\n",
    "Question(4): Write a Python program to swap two variables?\n",
    "\n",
    "x = 2\n",
    "y = 3\n",
    "temp = x\n",
    "x = y\n",
    "y = temp\n",
    "\n",
    "print('The value of x after swapping: {}'.format(x))\n",
    "print('The value of y after swapping: {}'.format(y))\n",
    "\n",
    "\n",
    "Question(5): Write a Python program to generate a random number?\n",
    "import random\n",
    "n = random.random()\n",
    "print(n)\n",
    "\n"
   ]
  }
 ],
 "metadata": {
  "kernelspec": {
   "display_name": "Python 3 (ipykernel)",
   "language": "python",
   "name": "python3"
  },
  "language_info": {
   "codemirror_mode": {
    "name": "ipython",
    "version": 3
   },
   "file_extension": ".py",
   "mimetype": "text/x-python",
   "name": "python",
   "nbconvert_exporter": "python",
   "pygments_lexer": "ipython3",
   "version": "3.9.12"
  }
 },
 "nbformat": 4,
 "nbformat_minor": 5
}
